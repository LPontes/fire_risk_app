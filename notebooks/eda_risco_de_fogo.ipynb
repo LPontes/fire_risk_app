{
 "cells": [
  {
   "cell_type": "code",
   "execution_count": 12,
   "metadata": {},
   "outputs": [],
   "source": [
    "import geopandas as gpd\n",
    "import ee\n",
    "import geemap as gee\n",
    "import datetime as dt\n",
    "import numpy as np\n",
    "\n",
    "# import matplotlib.pyplot as plt\n",
    "# ee.Authenticate()\n",
    "gee.ee_initialize()"
   ]
  },
  {
   "cell_type": "markdown",
   "metadata": {},
   "source": [
    "# Setup"
   ]
  },
  {
   "cell_type": "code",
   "execution_count": 13,
   "metadata": {},
   "outputs": [],
   "source": [
    "begTime = dt.date.today()\n",
    "today = ee.Date(begTime.strftime(\"%Y-%m-%d\"))"
   ]
  },
  {
   "cell_type": "markdown",
   "metadata": {},
   "source": [
    "# Read"
   ]
  },
  {
   "cell_type": "code",
   "execution_count": 14,
   "metadata": {},
   "outputs": [],
   "source": [
    "df_uf = gpd.read_file('../data/vector/uf_sp.shp')\n",
    "df_br =  gpd.read_file('../data/vector/br.shp')\n",
    "df_silvicultura = gpd.read_file('../data/vector/silvicultura_2021_clean50.shp')"
   ]
  },
  {
   "cell_type": "code",
   "execution_count": 15,
   "metadata": {},
   "outputs": [],
   "source": [
    "silv = ee.FeatureCollection(\"projects/ee-lucaspontesm/assets/silvicultura_2021_clean50\");"
   ]
  },
  {
   "cell_type": "code",
   "execution_count": 16,
   "metadata": {},
   "outputs": [],
   "source": [
    "# aoi = ee.Geometry.Polygon(list(df_uf[df_uf['SIGLA_UF']=='SP'].geometry.exterior[0].coords))\n",
    "# br = ee.Geometry.Polygon(list(df_br.geometry.exterior[0].coords))\n",
    "# silvicultura = ee.Geometry.MultiPolygon([list(x.coords) for x in df_silvicultura.geometry.exterior])"
   ]
  },
  {
   "cell_type": "code",
   "execution_count": 17,
   "metadata": {},
   "outputs": [],
   "source": [
    "lulc = ee.Image(\"projects/ee-lucaspontesm/assets/MAPBIOMAS/mapbiomas-brazil-collection-71-saopaulo-2021\")\n",
    "gfs_collection = ee.ImageCollection('NOAA/GFS0P25')\n",
    "imerg_collection = ee.ImageCollection(\"NASA/GPM_L3/IMERG_V06\")\n",
    "viirs_collection = ee.ImageCollection(\"NOAA/VIIRS/001/VNP14A1\")\n",
    "dem = ee.Image(\"CGIAR/SRTM90_V4\")"
   ]
  },
  {
   "cell_type": "code",
   "execution_count": 18,
   "metadata": {},
   "outputs": [],
   "source": [
    "aoi = ee.FeatureCollection(\"projects/ee-lucaspontesm/assets/uf_sp\").geometry(); "
   ]
  },
  {
   "cell_type": "markdown",
   "metadata": {},
   "source": [
    "# UDF"
   ]
  },
  {
   "cell_type": "code",
   "execution_count": 19,
   "metadata": {},
   "outputs": [],
   "source": [
    "flame_cte = {1: [\"Forest\", 2],\n",
    "            2: [\"Natural Forest\", 2],\n",
    "            3: [\"Forest Formation\", 2],\n",
    "            4: [\"Savanna Formation\", 2.4],\n",
    "            5: [\"Magrove\", 1.5],\n",
    "            6: [\"Áreas Naturales Inundables - Leñosas (Bosque Inundable)\",1.5],\n",
    "            9: [\"Forest Plantation\", 4],\n",
    "            10: [\"Non Forest Natural Formation\", 2],\n",
    "            11: [\"Wetland\",1.5],\n",
    "            12: [\"Grassland (Pastizal, Formación Herbácea)\", 6],\n",
    "            13: [\"Other Non Forest Natural Formation\", 2],\n",
    "            14: [\"Farming\", 4],\n",
    "            15: [\"Pasture\", 6],\n",
    "            18: [\"Agriculture\",4],\n",
    "            19: [\"Temporary Crops (Herbaceas - Agricultura)\",4],\n",
    "            20: [\"Sugar Cane\",4],\n",
    "            21: [\"Mosaic of Agriculture and Pasture\",5],\n",
    "            # 22: [\"Non vegetated area\",None],\n",
    "            # 23: [\"Beach and Dune\",None],\n",
    "            # 24: [\"Urban Infrastructure\", None],\n",
    "            # 25: [\"Other Non Vegetated Area\", None],\n",
    "            # 26: [\"Water\", None],\n",
    "            # 27: \"Non Observed\",\n",
    "            # 29: [\"Rocky outcrop\", None],\n",
    "            # 30: [\"Mining\", None],\n",
    "            # 31: [\"Aquaculture\", None],\n",
    "            # 32: \"Salt flat\",\n",
    "            # 33: [\"River, Lake and Ocean\", None],\n",
    "            # 34: [\"Glacier\", None],\n",
    "            35: [\"Oil Palm\",4],\n",
    "            36: [\"Perennial Crops\",3],\n",
    "            # 37: [\"Artificial Water Body\", None],\n",
    "            # 38: [\"Water Reservoirs\", None],\n",
    "            39: [\"Soy Beans\",4],\n",
    "            40: [\"Rice\",4],\n",
    "            41: [\"Mosaic of Crops\",4],\n",
    "            46: ['Coffe',4],\n",
    "            47: ['Citrus',4],\n",
    "            48: ['Other Perennial Crops', 4],\n",
    "            49: ['Wooded Sandbank Vegetation', 3],\n",
    "            50: ['Herbaceous Sandbank Vegetation', 3],\n",
    "            62: [\"Cotton\", 4],\n",
    "            # 0: \"Non Observed\"\n",
    "            }"
   ]
  },
  {
   "cell_type": "markdown",
   "metadata": {},
   "source": [
    "# pre processing"
   ]
  },
  {
   "cell_type": "code",
   "execution_count": 20,
   "metadata": {},
   "outputs": [],
   "source": [
    "# https://developers.google.com/earth-engine/apidocs/ee-image-remap\n",
    "# A list of pixel values to replace.\n",
    "fromList = list(flame_cte.keys())\n",
    "\n",
    "# A corresponding list of replacement values (1 becomes 1, 2 becomes 2, etc).\n",
    "toList = [x[1] for x in flame_cte.values()]\n",
    "\n",
    "# Replace pixel values in the image. If the image is multi-band, only the\n",
    "# remapped band will be returned. The returned band name is \"remapped\".\n",
    "# Input image properties are retained in the output image.\n",
    "flamability = lulc.remap(**{\n",
    "  'from': fromList,\n",
    "  'to': toList,\n",
    "  'defaultValue': None,\n",
    "  'bandName': 'b1'\n",
    "})"
   ]
  },
  {
   "cell_type": "code",
   "execution_count": 21,
   "metadata": {},
   "outputs": [],
   "source": [
    "# flamability.reduceRegion(**{\n",
    "#                     'reducer': ee.Reducer.min(),\n",
    "#                     'scale': 11000,\n",
    "#     }).getInfo()"
   ]
  },
  {
   "cell_type": "markdown",
   "metadata": {},
   "source": [
    "# IMERG rainfall"
   ]
  },
  {
   "cell_type": "code",
   "execution_count": 22,
   "metadata": {},
   "outputs": [],
   "source": [
    "# iteração para pegar a imagem de chuva mais recente\n",
    "p1 = (imerg_collection\n",
    "      .filterDate((begTime - dt.timedelta(days=1)).strftime(\"%Y-%m-%d\"),\n",
    "                   begTime.strftime(\"%Y-%m-%d\"))\n",
    "        .select('precipitationCal')\n",
    "        .sum()\n",
    "        .clip(aoi))\n",
    "\n",
    "while len(p1.getInfo()['bands']) == 0:\n",
    "      begTime = (begTime - dt.timedelta(days=1))\n",
    "      today = ee.Date(begTime.strftime(\"%Y-%m-%d\"))\n",
    "\n",
    "      p1 = (imerg_collection\n",
    "            .filterDate((begTime - dt.timedelta(days=1)).strftime(\"%Y-%m-%d\"),\n",
    "                        begTime.strftime(\"%Y-%m-%d\"))\n",
    "            .select('precipitationCal')\n",
    "            .sum()\n",
    "            .clip(aoi))"
   ]
  },
  {
   "cell_type": "code",
   "execution_count": 23,
   "metadata": {},
   "outputs": [],
   "source": [
    "p2 = (imerg_collection\n",
    "      .filterDate((begTime - dt.timedelta(days=2)).strftime(\"%Y-%m-%d\"),\n",
    "                   begTime.strftime(\"%Y-%m-%d\"))\n",
    "        .select('precipitationCal')\n",
    "        .sum()\n",
    "        .clip(aoi))\n",
    "\n",
    "p3 = (imerg_collection\n",
    "      .filterDate((begTime - dt.timedelta(days=3)).strftime(\"%Y-%m-%d\"),\n",
    "                   begTime.strftime(\"%Y-%m-%d\"))\n",
    "        .select('precipitationCal')\n",
    "        .sum()\n",
    "        .clip(aoi))\n",
    "\n",
    "p4 = (imerg_collection\n",
    "      .filterDate((begTime - dt.timedelta(days=4)).strftime(\"%Y-%m-%d\"),\n",
    "                   begTime.strftime(\"%Y-%m-%d\"))\n",
    "        .select('precipitationCal')\n",
    "        .sum()\n",
    "        .clip(aoi))\n",
    "\n",
    "p5 = (imerg_collection\n",
    "      .filterDate((begTime - dt.timedelta(days=5)).strftime(\"%Y-%m-%d\"),\n",
    "                   begTime.strftime(\"%Y-%m-%d\"))\n",
    "        .select('precipitationCal')\n",
    "        .sum()\n",
    "        .clip(aoi))\n",
    "p10 = (imerg_collection\n",
    "      .filterDate((begTime - dt.timedelta(days=10)).strftime(\"%Y-%m-%d\"),\n",
    "                   begTime.strftime(\"%Y-%m-%d\"))\n",
    "        .select('precipitationCal')\n",
    "        .sum()\n",
    "        .clip(aoi))\n",
    "p15 = (imerg_collection\n",
    "      .filterDate((begTime - dt.timedelta(days=15)).strftime(\"%Y-%m-%d\"),\n",
    "                   begTime.strftime(\"%Y-%m-%d\"))\n",
    "        .select('precipitationCal')\n",
    "        .sum()\n",
    "        .clip(aoi))\n",
    "p30 = (imerg_collection\n",
    "      .filterDate((begTime - dt.timedelta(days=30)).strftime(\"%Y-%m-%d\"),\n",
    "                   begTime.strftime(\"%Y-%m-%d\"))\n",
    "        .select('precipitationCal')\n",
    "        .sum()\n",
    "        .clip(aoi))\n",
    "p60 = (imerg_collection\n",
    "      .filterDate((begTime - dt.timedelta(days=60)).strftime(\"%Y-%m-%d\"),\n",
    "                   begTime.strftime(\"%Y-%m-%d\"))\n",
    "        .select('precipitationCal')\n",
    "        .sum()\n",
    "        .clip(aoi))\n",
    "p90 = (imerg_collection\n",
    "      .filterDate((begTime - dt.timedelta(days=90)).strftime(\"%Y-%m-%d\"),\n",
    "                   begTime.strftime(\"%Y-%m-%d\"))\n",
    "        .select('precipitationCal')\n",
    "        .sum()\n",
    "        .clip(aoi))\n",
    "p120 = (imerg_collection\n",
    "      .filterDate((begTime - dt.timedelta(days=120)).strftime(\"%Y-%m-%d\"),\n",
    "                   begTime.strftime(\"%Y-%m-%d\"))\n",
    "        .select('precipitationCal')\n",
    "        .sum()\n",
    "        .clip(aoi))"
   ]
  },
  {
   "cell_type": "code",
   "execution_count": 24,
   "metadata": {},
   "outputs": [],
   "source": [
    "# p120.reduceRegion(**{\n",
    "#                     'reducer': ee.Reducer.max(), \n",
    "#                     'geometry': aoi, \n",
    "#                     'scale': 11000,\n",
    "#     }).getInfo()"
   ]
  },
  {
   "cell_type": "code",
   "execution_count": 25,
   "metadata": {},
   "outputs": [],
   "source": [
    "fp1 = p1.expression('exp(-0.14 *p1)',\n",
    "                    {'p1': p1.select('precipitationCal')})\n",
    "\n",
    "fp2 = p2.expression('exp(-0.07 *(pf-pi))',\n",
    "                    {'pi': p1.select('precipitationCal'),\n",
    "                     'pf': p2.select('precipitationCal')})\n",
    "\n",
    "fp3 = p3.expression('exp(c *(pf-pi))',\n",
    "                    {'c':-0.04,\n",
    "                    'pi': p2.select('precipitationCal'),\n",
    "                    'pf': p3.select('precipitationCal')})\n",
    "\n",
    "fp4 = p4.expression('exp(c *(pf-pi))',\n",
    "                    {'c':-0.03,\n",
    "                    'pi': p3.select('precipitationCal'),\n",
    "                    'pf': p4.select('precipitationCal')})\n",
    "\n",
    "fp5 = p5.expression('exp(c *(pf-pi))',\n",
    "                    {'c':-0.02,\n",
    "                    'pi': p4.select('precipitationCal'),\n",
    "                    'pf': p5.select('precipitationCal')})\n",
    "\n",
    "fp6a10 = p10.expression('exp(c *(pf-pi))',\n",
    "                    {'c':-0.01,\n",
    "                    'pi': p5.select('precipitationCal'),\n",
    "                    'pf': p10.select('precipitationCal')})\n",
    "\n",
    "fp11a15 = p15.expression('exp(c *(pf-pi))',\n",
    "                    {'c':-0.008,\n",
    "                    'pi': p10.select('precipitationCal'),\n",
    "                    'pf': p15.select('precipitationCal')})\n",
    "\n",
    "fp16a30 = p30.expression('exp(c *(pf-pi))',\n",
    "                    {'c':-0.004,\n",
    "                    'pi': p15.select('precipitationCal'),\n",
    "                    'pf': p30.select('precipitationCal')})\n",
    "\n",
    "fp31a60 = p60.expression('exp(c *(pf-pi))',\n",
    "                    {'c':-0.002,\n",
    "                    'pi': p30.select('precipitationCal'),\n",
    "                    'pf': p60.select('precipitationCal')})\n",
    "\n",
    "fp61a90 = p90.expression('exp(c *(pf-pi))',\n",
    "                    {'c':-0.001,\n",
    "                    'pi': p60.select('precipitationCal'),\n",
    "                    'pf': p90.select('precipitationCal')})\n",
    "\n",
    "fp91a120 = p120.expression('exp(c *(pf-pi))',\n",
    "                    {'c':-0.0007,\n",
    "                    'pi': p90.select('precipitationCal'),\n",
    "                    'pf': p120.select('precipitationCal')})"
   ]
  },
  {
   "cell_type": "code",
   "execution_count": 26,
   "metadata": {},
   "outputs": [],
   "source": [
    "# Calcula os dias de secura (PSE)\n",
    "pse = (fp1\n",
    "        .multiply(fp2)\n",
    "        .multiply(fp3)\n",
    "        .multiply(fp4)\n",
    "        .multiply(fp5)\n",
    "        .multiply(fp6a10)\n",
    "        .multiply(fp11a15)\n",
    "        .multiply(fp16a30)\n",
    "        .multiply(fp31a60)\n",
    "        .multiply(fp61a90)\n",
    "        .multiply(fp91a120)\n",
    "        .multiply(105)\n",
    ")\n"
   ]
  },
  {
   "cell_type": "code",
   "execution_count": 27,
   "metadata": {},
   "outputs": [],
   "source": [
    "# pse.reduceRegion(**{\n",
    "#                     'reducer': ee.Reducer.min(), \n",
    "#                     'geometry': aoi, \n",
    "#                     'scale': 11000,\n",
    "#     }).getInfo()"
   ]
  },
  {
   "cell_type": "code",
   "execution_count": 28,
   "metadata": {},
   "outputs": [],
   "source": [
    "# calcula o Risco Basico de fogo (Rb)\n",
    "\n",
    "rb = pse.expression('0.8*(1+sin((((a*pse)-90))*(3.14/180)))/2',\n",
    "                    {'a':flamability.select('remapped'),\n",
    "                    'pse': pse.select('constant')\n",
    "                    })"
   ]
  },
  {
   "cell_type": "code",
   "execution_count": 29,
   "metadata": {},
   "outputs": [],
   "source": [
    "# rb.reduceRegion(**{\n",
    "#                     'reducer': ee.Reducer.max(), \n",
    "#                     'geometry': aoi, \n",
    "#                     'scale': 11000,\n",
    "#     }).getInfo()"
   ]
  },
  {
   "cell_type": "markdown",
   "metadata": {},
   "source": [
    "# GFS"
   ]
  },
  {
   "cell_type": "code",
   "execution_count": 30,
   "metadata": {},
   "outputs": [],
   "source": [
    "# Map = gee.Map()\n",
    "# temperatureAboveGround = gfs_collection.filter(ee.Filter.date('2023-07-17', '2023-07-18')).select('temperature_2m_above_ground').filterBounds(br).first()\n",
    "# palette =  ['blue', 'purple', 'cyan', 'green', 'yellow', 'red']\n",
    "# temperature_vis = {'min': -40.0, 'max': 35.0, 'palette': palette}\n",
    "\n",
    "# Map.setCenter(-40, -10, 4)\n",
    "# Map.addLayer(temperatureAboveGround, temperature_vis, 'Temperature Above Ground')\n",
    "# Map"
   ]
  },
  {
   "cell_type": "code",
   "execution_count": 32,
   "metadata": {},
   "outputs": [],
   "source": [
    "####### REVER #####################\n",
    "temperature = gfs_collection.filter(ee.Filter.date(begTime.strftime(\"%Y-%m-%d\"))).select('temperature_2m_above_ground').filterBounds(aoi).max()\n",
    "relative_humidity = gfs_collection.filter(ee.Filter.date(begTime.strftime(\"%Y-%m-%d\"))).select('relative_humidity_2m_above_ground').filterBounds(aoi).min()"
   ]
  },
  {
   "cell_type": "code",
   "execution_count": 33,
   "metadata": {},
   "outputs": [],
   "source": [
    "ft = temperature.expression('(Tmax*0.02)+0.4',\n",
    "                            {'Tmax': temperature})"
   ]
  },
  {
   "cell_type": "code",
   "execution_count": 34,
   "metadata": {},
   "outputs": [],
   "source": [
    "fu = relative_humidity.expression('(UR * -0.006)+1.3',\n",
    "                                {'UR':relative_humidity})"
   ]
  },
  {
   "cell_type": "markdown",
   "metadata": {},
   "source": [
    "# Risco de Fogo Observado"
   ]
  },
  {
   "cell_type": "code",
   "execution_count": 35,
   "metadata": {},
   "outputs": [],
   "source": [
    "rf = rb.multiply(ft).multiply(fu)"
   ]
  },
  {
   "cell_type": "code",
   "execution_count": 36,
   "metadata": {},
   "outputs": [],
   "source": [
    "flat = rf.expression('1+abs(lat)*0.003', {'lat':rf.pixelLonLat().select('latitude')})\n",
    "felv = dem.expression('1+alt*0.00003', {'alt':dem.select('elevation')})"
   ]
  },
  {
   "cell_type": "code",
   "execution_count": 37,
   "metadata": {},
   "outputs": [],
   "source": [
    "rfb = rf.multiply(flat).multiply(felv)"
   ]
  },
  {
   "cell_type": "markdown",
   "metadata": {},
   "source": [
    "# Classificacao do risco de fogo"
   ]
  },
  {
   "cell_type": "code",
   "execution_count": 38,
   "metadata": {},
   "outputs": [],
   "source": [
    "# rf_class = (ee.Image(1)\n",
    "#       .where(rf.select('constant').lte(0.15), 1)\n",
    "#       .where((rf.select('constant').gt(0.15)) and (rf.select('constant').lte(0.40)), 2)\n",
    "#       .where((rf.select('constant').gt(0.40)) and (rf.select('constant').lte(0.70)), 3)\n",
    "#       .where((rf.select('constant').gt(0.70)) and (rf.select('constant').lte(0.95)), 4)\n",
    "#       .where(rf.select('constant').gt(0.95), 5)).clip(aoi)"
   ]
  },
  {
   "cell_type": "markdown",
   "metadata": {},
   "source": [
    "#  Focos de incêndio"
   ]
  },
  {
   "cell_type": "code",
   "execution_count": 39,
   "metadata": {},
   "outputs": [],
   "source": [
    "if viirs_collection.filterDate(today.advance(-3, 'day'), today).size().getInfo() == 0:\n",
    "    rfb_ajustado= rfb\n",
    "else:   \n",
    "  focos = (viirs_collection\n",
    "    .filterDate(today.advance(-3, 'day'), today)\n",
    "    .select('FireMask').max().gt(6).clip(aoi)\n",
    "    .remap(**{\n",
    "          'from': [0,1],\n",
    "          'to': [1,2],\n",
    "          'defaultValue': None,\n",
    "          'bandName': 'FireMask'\n",
    "          })\n",
    "  )\n",
    "\n",
    "  rfb_ajustado = rfb.multiply(focos)"
   ]
  },
  {
   "cell_type": "markdown",
   "metadata": {},
   "source": [
    "# Display the result.\n"
   ]
  },
  {
   "cell_type": "code",
   "execution_count": 42,
   "metadata": {},
   "outputs": [
    {
     "data": {
      "application/vnd.jupyter.widget-view+json": {
       "model_id": "14b1160a00ad4e928ea92d31df7f5ae1",
       "version_major": 2,
       "version_minor": 0
      },
      "text/plain": [
       "Map(center=[-24, -46], controls=(WidgetControl(options=['position', 'transparent_bg'], widget=HBox(children=(T…"
      ]
     },
     "metadata": {},
     "output_type": "display_data"
    }
   ],
   "source": [
    "Map = gee.Map()\n",
    "\n",
    "palette = [\n",
    "  '000096','0064ff', '00b4ff', '33db80', '9beb4a',\n",
    "  'ffeb00', 'ffb300', 'ff6400', 'eb1e00', 'af0000'\n",
    "  ]\n",
    "\n",
    "precipitationVis = {'min': 0, 'max': 100, 'palette': palette}\n",
    "temperatureVis = {'min': 0, 'max': 40, 'palette': palette}\n",
    "fpVis = {'min': 0, 'max': 1, 'palette': palette}\n",
    "vis_classe_fogo = {'min': 0, 'max': 1, 'palette': ['green', 'lime', 'yellow', 'red', 'maroon']}\n",
    "\n",
    "# Map.addLayer(p1, precipitationVis, 'P (mm)')\n",
    "Map.addLayer(pse, precipitationVis, 'Dias de Secura')\n",
    "# Map.addLayer(rf, fpVis, 'Risco Fogo Observado')\n",
    "# Map.addLayer(rb, fpVis, 'Risco Básico de Fogo')\n",
    "# Map.addLayer(rfb_ajustado, vis_classe_fogo, 'Risco de Fogo Observado')\n",
    "# Map.addLayer(focos)\n",
    "Map.addLayer(silv, {}, 'Áreas de Silvicultura', shown= False)\n",
    "Map.setCenter(-46, -24, 6)  \n",
    "Map"
   ]
  }
 ],
 "metadata": {
  "kernelspec": {
   "display_name": "ee",
   "language": "python",
   "name": "python3"
  },
  "language_info": {
   "codemirror_mode": {
    "name": "ipython",
    "version": 3
   },
   "file_extension": ".py",
   "mimetype": "text/x-python",
   "name": "python",
   "nbconvert_exporter": "python",
   "pygments_lexer": "ipython3",
   "version": "3.10.12"
  },
  "orig_nbformat": 4
 },
 "nbformat": 4,
 "nbformat_minor": 2
}
