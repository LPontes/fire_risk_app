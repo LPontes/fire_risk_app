{
 "cells": [
  {
   "cell_type": "markdown",
   "metadata": {},
   "source": [
    "# Análise de dados de riscos meteorológicos ao negócio florestal\n",
    "\n",
    "## Objetivos\n",
    "\n",
    "O objetivo principal é a obtenção e classificação para os principais riscos climáticos e causas de sinistros meteorológicos para a silvicultura:\n",
    "- [Geada](#Geada)\n",
    "- [Vento](#Vento)\n",
    "- [Chuvas excessivas e inundação](#Chuvas)\n",
    "- [Déficit hídrico](#seca)\n",
    "\n",
    "## Metodologia\n",
    "- Google Earth Engine (GEE) para obtenção e análise de dados de sensoriamento remoto.\n",
    "- Foi dada ênfase para áreas de silvicultura no Estado de São Paulo, porém as funções podem ser facilmente adaptadas para outros cenários e localidades.\n",
    "- Fontes de dados:\n",
    "    - Previsão das principais variáveis meteorológicas - [GFS](https://developers.google.com/earth-engine/datasets/catalog/NOAA_GFS0P25?hl=en)\n",
    "        - Resolução espacial: 27830 m\n",
    "        - As previsões (forecast) do GFS são inicializadas 4 vezes ao dia (00, 06, 12, 18 horas GMT). Portanto, temos 4 forecasts por dia.\n",
    "        - Nos primeiros 5 dias o intervalo das previsões é de uma hora.\n",
    "        - Depois em intervalos de 3 horas para os 10 dias seguintes, e 12 horas para os 16 dias restantes. Totalizando 31 dias de forecast.\n",
    "    - Evapotranspiração - [MODIS](https://developers.google.com/earth-engine/datasets/catalog/MODIS_061_MOD16A2#description). \n",
    "        - Resolução espacial: 500m\n",
    "        - Resolução temporal: 8 dias\n",
    "    - Cota do relevo em relação à drenagem - [HAND](https://gee-community-catalog.org/projects/hand/).\n",
    "        - versão 30_100, i.e., 30 m de resolução espacial e 100 células de drenagem para dar origem a um curso dágua.\n",
    "    - Modelo digital de elevação - [SRTM](https://developers.google.com/earth-engine/datasets/catalog/CGIAR_SRTM90_V4#bands)\n",
    "        - 90m\n",
    "    - Uso e ocupação do solo - [MapBiomas coleção 7 (2021)](https://mapbiomas.org/)\n",
    "        - O recorte para o estado de São Paulo foi feito utilizando o toolkit do GEE disponibilizado pelos desenvolvedores.\n",
    "\n",
    "## Referências\n",
    "- [Alvares et al. 2022. Modelagem de áreas propensas à geada para o Eucalipto em São Paulo.](https://www.ipef.br/publicacoes/ctecnica/nr219.pdf)\n",
    "- [Assad et al. 2021.Impactos de mudanças do clima em plantios de eucalipto no Sul do Brasil](https://www.embrapa.br/busca-de-publicacoes/-/publicacao/1131798/impactos-de-mudancas-do-clima-em-plantios-de-eucalipto-no-sul-do-brasil)\n",
    "- [Ribeiro et al. 2009. Agrometeorologia dos Cultivos](https://www.embrapa.br/documents/1355291/37056285/Bases+climatol%C3%B3gicas_G.R.CUNHA_Livro_Agrometeorologia+dos+cultivos.pdf/13d616f5-cbd1-7261-b157-351eaa31188d?version=1.0)\n",
    "\n",
    "## Observações\n",
    "\n",
    "- Pontos de melhoria: \n",
    "    - 1. Foram adotados valores arbitrários, ou baseados em conhecimento tácito, para definir os critérios ao se considerar a temperatura mínima para ocorrência de geada e precipitação acumulada para áreas de inundação. O ideal seria levantar mais informações ou até mesmo realizar experimentos ou ajustar modelos que permitam uma inferência mais assertiva.\n",
    "    - 2. Para o deficit hídrico foi utilzado, por conveniência, um método bastante simplificado baseado em modelos de sensoriamento remoto com fácil disponibilidade de dados."
   ]
  },
  {
   "cell_type": "code",
   "execution_count": 43,
   "metadata": {},
   "outputs": [],
   "source": [
    "import ee\n",
    "import geemap as gee\n",
    "import geemap.chart as chart\n",
    "\n",
    "import datetime as dt\n",
    "\n",
    "import numpy as np\n",
    "\n",
    "import matplotlib\n",
    "# matplotlib.style.use('seaborn')\n",
    "import matplotlib.pyplot as plt\n",
    "import pandas as pd\n",
    "\n",
    "import geopandas as gpd\n",
    "\n",
    "# import matplotlib.pyplot as plt\n",
    "# ee.Authenticate()\n",
    "gee.ee_initialize()"
   ]
  },
  {
   "cell_type": "markdown",
   "metadata": {},
   "source": [
    "# Setup"
   ]
  },
  {
   "cell_type": "code",
   "execution_count": 44,
   "metadata": {},
   "outputs": [],
   "source": [
    "begTime = dt.date.today()\n",
    "today = ee.Date(begTime.strftime(\"%Y-%m-%d\"))"
   ]
  },
  {
   "cell_type": "code",
   "execution_count": 45,
   "metadata": {},
   "outputs": [],
   "source": [
    "# parâmetros do Earth Engine para visualização das imagens\n",
    "palette = ['000096','0064ff', '00b4ff', '33db80', '9beb4a', 'ffeb00', 'ffb300', 'ff6400', 'eb1e00', 'af0000'  ]\n",
    "temperatureVis = {'min': 0, 'max': 40, 'palette': palette}\n",
    "vis_inc = {'min': 1, 'max': 5, 'palette': ['green', 'lime', 'yellow', 'red', 'maroon']}"
   ]
  },
  {
   "cell_type": "markdown",
   "metadata": {},
   "source": [
    "# Read"
   ]
  },
  {
   "cell_type": "code",
   "execution_count": 46,
   "metadata": {},
   "outputs": [],
   "source": [
    "# contorno de São Paulo e do Brasil\n",
    "df_uf = gpd.read_file('../data/vector/uf_sp.shp')\n",
    "df_br =  gpd.read_file('../data/vector/br.shp')"
   ]
  },
  {
   "cell_type": "code",
   "execution_count": 47,
   "metadata": {},
   "outputs": [],
   "source": [
    "bbox = ee.Geometry.Polygon(list(df_uf[df_uf['SIGLA_UF']=='SP'].envelope.geometry.exterior[0].coords))"
   ]
  },
  {
   "cell_type": "code",
   "execution_count": 48,
   "metadata": {},
   "outputs": [],
   "source": [
    "aoi = ee.Geometry.Polygon(list(df_uf[df_uf['SIGLA_UF']=='SP'].geometry.exterior[0].coords))\n",
    "br = ee.Geometry.Polygon(list(df_br.geometry.exterior[0].coords))"
   ]
  },
  {
   "cell_type": "code",
   "execution_count": 49,
   "metadata": {},
   "outputs": [],
   "source": [
    "# ee collections\n",
    "lulc = ee.Image(\"projects/ee-lucaspontesm/assets/MAPBIOMAS/mapbiomas-brazil-collection-71-saopaulo-2021\")\n",
    "gfs_collection = ee.ImageCollection('NOAA/GFS0P25')\n",
    "hand30_1000 = ee.Image(\"users/gena/GlobalHAND/30m/hand-1000\")\n",
    "hand30_100 = ee.ImageCollection(\"users/gena/global-hand/hand-100\")\n",
    "dem = ee.Image(\"CGIAR/SRTM90_V4\")\n",
    "silv = ee.FeatureCollection(\"projects/ee-lucaspontesm/assets/silvicultura_2021_clean50\");"
   ]
  },
  {
   "cell_type": "markdown",
   "metadata": {},
   "source": [
    "# UDF - User Defined Functions"
   ]
  },
  {
   "cell_type": "code",
   "execution_count": 50,
   "metadata": {},
   "outputs": [],
   "source": [
    "def gfs_var_prediction(var_name, predict_date, bbox):\n",
    "\n",
    "    \"\"\"\n",
    "    Busca dos dados de previsão meteorológica diária do GFS\n",
    "    Input:\n",
    "        - var_name: nome da variável de interesse. (str)\n",
    "        - predicdt_date: data para qual se deseja obter a previsão. (date)\n",
    "        - bbox: área de interesse, usada para recortar o raster. (geometry)\n",
    "    Output:\n",
    "        - Dado matricial com a previsão meteorológica. (ee.Image)\n",
    "    \"\"\"\n",
    "    \n",
    "    choose_hours_dict = {1:[0,23],\n",
    "                        2:[24,47],\n",
    "                        3:[48,73]}\n",
    "    \n",
    "    var_dict = {'Velocidade do vento (m/s)': ['u_component_of_wind_10m_above_ground',\n",
    "                                              'v_component_of_wind_10m_above_ground'],\n",
    "                'Temperatura mínima (ºC)':'temperature_2m_above_ground',\n",
    "                'Umidade relativa do ar (%)':'relative_humidity_2m_above_ground',\n",
    "                'Precipitação (mm)':'total_precipitation_surface'}\n",
    "\n",
    "    delta_time = (predict_date - dt.date.today()).days\n",
    "\n",
    "    # Define os inputs de tempo\n",
    "    if delta_time > 0:\n",
    "        today = ee.Date(dt.date.today().strftime(\"%Y-%m-%d\"))\n",
    "        max_advance = 3\n",
    "        ti = choose_hours_dict[delta_time][0]\n",
    "        tf = choose_hours_dict[delta_time][1]\n",
    "    else:\n",
    "        delta_time += -1 # força usar a previsao gerada no dia anterior ao que se quer observar\n",
    "        today = ee.Date((dt.date.today() + dt.timedelta(days=delta_time)).strftime(\"%Y-%m-%d\"))\n",
    "        max_advance = 1\n",
    "        ti = choose_hours_dict[1][0]\n",
    "        tf = choose_hours_dict[1][1]\n",
    "\n",
    "    # Calcula das predicoes\n",
    "    # velocidade do vento\n",
    "    if var_name == 'Velocidade do vento (m/s)':\n",
    "        var_pred = (gfs_collection\n",
    "                    .select(['u_component_of_wind_10m_above_ground', 'v_component_of_wind_10m_above_ground'])\n",
    "                    .filterDate(today, today.advance(6,'hour')) # get a specific forecast initialization,\n",
    "                    .filter(ee.Filter.lt('forecast_time',today.advance(max_advance,'day').millis())) # Quantos dias pra frente\n",
    "                    .filter(ee.Filter.gte('forecast_hours',ti) )\n",
    "                    .filter(ee.Filter.lte('forecast_hours',tf))\n",
    "                    .max()) # make a composite of the collection\n",
    "  \n",
    "        var_pred = var_pred.clip(bbox)\n",
    "        # Wind speed\n",
    "        var_pred = var_pred.pow(2).reduce(ee.Reducer.sum()).sqrt()\n",
    "    \n",
    "    # Tmin e UR\n",
    "    elif var_name in ['Temperatura mínima (ºC)',\n",
    "                      'Umidade relativa do ar (%)']:\n",
    "        var_pred = (gfs_collection\n",
    "                    .select(var_dict[var_name])\n",
    "                    .filterDate(today, today.advance(6,'hour')) # get a specific forecast initialization,\n",
    "                    .filter(ee.Filter.lt('forecast_time',today.advance(max_advance,'day').millis())) # Quantos dias pra frente\n",
    "                    .filter(ee.Filter.gte('forecast_hours',ti) )\n",
    "                    .filter(ee.Filter.lte('forecast_hours',tf))\n",
    "                    .min()) # make a composite of the collection\n",
    "  \n",
    "        var_pred = var_pred.clip(bbox)\n",
    "\n",
    "    # Precipitacao diaria total\n",
    "    elif var_name == 'Precipitação (mm)':\n",
    "        \"\"\"Until 2019-11-07 06:00:00, this field represents the precipitation at surface at the forecasted time.\n",
    "         After that date, this field holds the cumulative precipitation at surface added together from all forecasts \n",
    "         starting from hour 0 (only for assets with forecast_hours > 0)\"\"\"\n",
    "        var_pred = (gfs_collection\n",
    "                    .select(var_dict[var_name])\n",
    "                    .filterDate(today, today.advance(6,'hour')) # get a specific forecast initialization,\n",
    "                    .filter(ee.Filter.lt('forecast_time',today.advance(max_advance,'day').millis())) # Quantos dias pra frente\n",
    "                    .filter(ee.Filter.gte('forecast_hours',ti+1) )\n",
    "                    .filter(ee.Filter.lte('forecast_hours',tf))\n",
    "                    .sum()) # make a composite of the collection\n",
    "  \n",
    "        var_pred = var_pred.clip(bbox)\n",
    "        \n",
    "    return var_pred"
   ]
  },
  {
   "cell_type": "markdown",
   "metadata": {},
   "source": [
    "# Geada"
   ]
  },
  {
   "cell_type": "code",
   "execution_count": 51,
   "metadata": {},
   "outputs": [],
   "source": [
    "# Indicência de geada (Alvares et al 2022)\n",
    "inc = (ee.Image(1)\n",
    "        .expression('-5.293 +  0.00078 * alt - 0.0857 * (2.303 * hand) - 0.114 * lat - 0.057 * lon',\n",
    "            {'alt':dem.select(\"elevation\"),\n",
    "            'lat':hand30_100.mosaic().pixelLonLat().select('latitude'),\n",
    "            'lon':hand30_100.mosaic().pixelLonLat().select('longitude'),\n",
    "            'hand':hand30_100.mosaic().select('b1').log()})\n",
    "         .clip(aoi))"
   ]
  },
  {
   "cell_type": "code",
   "execution_count": 52,
   "metadata": {},
   "outputs": [],
   "source": [
    "# Classificando os valores da imagem em 5 níveis:\n",
    "# 1 - muito baixa; 2 - baixa, 3 - média, 4 - alta, 5 - muito alta\n",
    "inc_classes = (ee.Image(1)\n",
    "                .where(inc.lte(0.20), 1) \n",
    "                .where(inc.gt(0.20).And(inc.lte(0.40)), 2)\n",
    "                .where(inc.gt(0.40).And(inc.lte(0.60)), 3)\n",
    "                .where(inc.gt(0.60).And(inc.lte(0.80)), 4)\n",
    "                .where(inc.gt(0.80), 5)\n",
    "              )"
   ]
  },
  {
   "cell_type": "code",
   "execution_count": 53,
   "metadata": {},
   "outputs": [
    {
     "data": {
      "application/vnd.jupyter.widget-view+json": {
       "model_id": "aba89e7b565947e8ae609aaeb499bf48",
       "version_major": 2,
       "version_minor": 0
      },
      "text/plain": [
       "Map(center=[-22.8, -47.4], controls=(WidgetControl(options=['position', 'transparent_bg'], widget=HBox(childre…"
      ]
     },
     "metadata": {},
     "output_type": "display_data"
    }
   ],
   "source": [
    "Map = gee.Map()\n",
    "vis_inc = {'min': 1, 'max': 5, 'palette': ['green', 'lime', 'yellow', 'red', 'maroon']}\n",
    "Map.addLayer(inc_classes.clip(aoi),vis_inc,'INC - geada (decimal)')\n",
    "Map.setCenter(-47.4, -22.8, 7)  \n",
    "Map"
   ]
  },
  {
   "cell_type": "code",
   "execution_count": 71,
   "metadata": {},
   "outputs": [],
   "source": [
    "# # Histograma\n",
    "inc_sample = inc_classes.sample(silv, 10000)\n",
    "options = {\n",
    "    \"title\": 'Índice de incidência de geada para áreas de Silvicultura no Estado de São Paulo',\n",
    "    \"xlabel\": 'Incidência (inc)',\n",
    "    \"ylabel\": 'Pixel count',\n",
    "    \"colors\": ['#1d6b99'],\n",
    "}\n",
    "\n",
    "# chart.feature_histogram(inc_sample, 'constant',maxBuckets=5, **options)"
   ]
  },
  {
   "cell_type": "code",
   "execution_count": 55,
   "metadata": {},
   "outputs": [],
   "source": [
    "df = pd.DataFrame(inc_classes.reduceRegion(reducer= ee.Reducer.frequencyHistogram(), \n",
    "                    geometry= aoi, \n",
    "                    scale= 900).getInfo())\n",
    "df['perc_inc'] = 100*df['constant']/df['constant'].sum()"
   ]
  },
  {
   "cell_type": "code",
   "execution_count": 56,
   "metadata": {},
   "outputs": [
    {
     "data": {
      "image/png": "[encoded data removed]",
      "text/plain": [
       "<Figure size 500x300 with 1 Axes>"
      ]
     },
     "metadata": {},
     "output_type": "display_data"
    }
   ],
   "source": [
    "fig, ax = plt.subplots(1, figsize=(5,3))\n",
    "df['perc_inc'].plot(kind='bar',alpha=0.75, rot=0,ax=ax)\n",
    "plt.xlabel(\"Classes de indicência de geada\")\n",
    "plt.ylabel(\"Frequência (%)\")\n",
    "plt.show()"
   ]
  },
  {
   "cell_type": "markdown",
   "metadata": {},
   "source": [
    "### Definição de temperaturas de referência\n",
    "- Uma vez que a escala dos dados do GFS é muito grande em relação às áreas de silvicultura, utilizei o trabalho de Alvares et al (2022) para estimar temperaturas críticas de geada.\n",
    "- Para isso selecionei áreas de silvicultura do mapeamento do Mapbiomas (2021) (63724,63744,90376,74516,69423) localizadas próximas as áreas apresentadas no estudo e os dados de temperatura mínima para as datas 30 de junho, 20 e 30 de julho de 2021, que chegaram a atingir temperaturas mínimas de -4ºC Alvares et al (2022).\n",
    "- A temperatura mínima obtida com o GFS para essas datas foi de -1.76ºC, ou seja, cerca de 2ºC acima do medido por Alvares et al (2022)\n",
    "- Apesar do empirismo desta análise, essas informações foram utilizadas para combinar o índice de incidência de geadas com as temperaturas mínimas do GFS para refinar possíveis alertas de geada para o Estado de São Paulo.\n",
    "\n",
    "alerta_geada: \n",
    "- inc 0-20 & Tmin (GFS) < 0\n",
    "- inc 20-40 & Tmin (GFS) < 2\n",
    "- inc 40-60 & Tmin (GFS) < 4\n",
    "- inc 40-60 & Tmin (GFS) < 6\n",
    "- inc 80-100 & Tmin (GFS) < 8"
   ]
  },
  {
   "cell_type": "code",
   "execution_count": 57,
   "metadata": {},
   "outputs": [
    {
     "data": {
      "text/html": [
       "<div>\n",
       "<style scoped>\n",
       "    .dataframe tbody tr th:only-of-type {\n",
       "        vertical-align: middle;\n",
       "    }\n",
       "\n",
       "    .dataframe tbody tr th {\n",
       "        vertical-align: top;\n",
       "    }\n",
       "\n",
       "    .dataframe thead th {\n",
       "        text-align: right;\n",
       "    }\n",
       "</style>\n",
       "<table border=\"1\" class=\"dataframe\">\n",
       "  <thead>\n",
       "    <tr style=\"text-align: right;\">\n",
       "      <th></th>\n",
       "      <th>temperature_2m_above_ground</th>\n",
       "    </tr>\n",
       "  </thead>\n",
       "  <tbody>\n",
       "    <tr>\n",
       "      <th>2023-06-30</th>\n",
       "      <td>2.340204</td>\n",
       "    </tr>\n",
       "    <tr>\n",
       "      <th>2023-07-20</th>\n",
       "      <td>0.146661</td>\n",
       "    </tr>\n",
       "    <tr>\n",
       "      <th>2023-07-30</th>\n",
       "      <td>-1.758521</td>\n",
       "    </tr>\n",
       "  </tbody>\n",
       "</table>\n",
       "</div>"
      ],
      "text/plain": [
       "            temperature_2m_above_ground\n",
       "2023-06-30                     2.340204\n",
       "2023-07-20                     0.146661\n",
       "2023-07-30                    -1.758521"
      ]
     },
     "execution_count": 57,
     "metadata": {},
     "output_type": "execute_result"
    }
   ],
   "source": [
    "# temperaturas mínimas para as áreas de silvicultura próximas ao estudo de Alvares et al (2022)\n",
    "sample_areas = silv.filter(ee.Filter.inList('fid', [63724,63744,90376,74516,69423,117729]))\n",
    "var_Tmin = gfs_var_prediction('Temperatura mínima (ºC)', dt.date.fromisoformat('2021-06-30'), sample_areas)\n",
    "min_30_06 = pd.DataFrame(var_Tmin.reduceRegion(reducer= ee.Reducer.min(), geometry= sample_areas, scale= 900).getInfo(), index=['2023-06-30'])\n",
    "\n",
    "var_Tmin = gfs_var_prediction('Temperatura mínima (ºC)', dt.date.fromisoformat('2021-07-20'), sample_areas)\n",
    "min_20_07 = pd.DataFrame(var_Tmin.reduceRegion(reducer= ee.Reducer.min(), geometry= sample_areas, scale= 900).getInfo(), index=['2023-07-20'])\n",
    "\n",
    "var_Tmin = gfs_var_prediction('Temperatura mínima (ºC)', dt.date.fromisoformat('2021-07-30'), sample_areas)\n",
    "min_30_07 = pd.DataFrame(var_Tmin.reduceRegion(reducer= ee.Reducer.min(), geometry= sample_areas, scale= 900).getInfo(), index=['2023-07-30'])\n",
    "\n",
    "pd.concat([min_30_06,min_20_07,min_30_07])"
   ]
  },
  {
   "cell_type": "code",
   "execution_count": 58,
   "metadata": {},
   "outputs": [
    {
     "data": {
      "application/vnd.jupyter.widget-view+json": {
       "model_id": "7d65d497d2c64a86acd23fb16b5c0f3b",
       "version_major": 2,
       "version_minor": 0
      },
      "text/plain": [
       "Map(center=[-23.2, -45.7], controls=(WidgetControl(options=['position', 'transparent_bg'], widget=HBox(childre…"
      ]
     },
     "metadata": {},
     "output_type": "display_data"
    }
   ],
   "source": [
    "Map = gee.Map()\n",
    "\n",
    "Map.addLayer(inc_classes.clip(sample_areas),vis_inc,'INC')\n",
    "Map.addLayer(sample_areas,{},'silvicultura')\n",
    "Map.addLayer(var_Tmin.clip(sample_areas),temperatureVis,'Tmin')\n",
    "\n",
    "Map.setCenter(-45.7, -23.2, 11)  \n",
    "Map"
   ]
  },
  {
   "cell_type": "markdown",
   "metadata": {},
   "source": [
    "## Risco de geada estimado de acordo com o INC e a Tmin"
   ]
  },
  {
   "cell_type": "code",
   "execution_count": 59,
   "metadata": {},
   "outputs": [],
   "source": [
    "# Obtem a temperatura mínima estimada para o próximo dia, para a área de interesse (aoi)\n",
    "# nesse caso as áreas de silvicultura no estado de SP\n",
    "Tmin_pred = gfs_var_prediction('Temperatura mínima (ºC)', dt.date.fromisoformat('2021-07-30'), aoi)\n",
    "\n",
    "# Emite o risco de geada pela combinação de nível de incidência e Tmin estimada, de acordo com a regra\n",
    "\"\"\"alerta_geada: \n",
    "- inc 0-20 & Tmin (GFS) < -4\n",
    "- inc 20-40 & Tmin (GFS) < -2\n",
    "- inc 40-60 & Tmin (GFS) < 0\n",
    "- inc 40-60 & Tmin (GFS) < 2\n",
    "- inc 80-100 & Tmin (GFS) < 4\n",
    "\"\"\"\n",
    "\n",
    "alerta_geada = (ee.Image(1)\n",
    "                .where(inc_classes.eq(1).And(Tmin_pred.lte(0)), 1) \n",
    "                .where(inc_classes.eq(1).And(Tmin_pred.gt(0)), 0) \n",
    "                .where(inc_classes.eq(2).And(Tmin_pred.lte(2)), 1)\n",
    "                .where(inc_classes.eq(2).And(Tmin_pred.gt(2)), 0)\n",
    "                .where(inc_classes.eq(3).And(Tmin_pred.lte(4)), 1)\n",
    "                .where(inc_classes.eq(3).And(Tmin_pred.gt(4)), 0)\n",
    "                .where(inc_classes.eq(4).And(Tmin_pred.lte(6)), 1)\n",
    "                .where(inc_classes.eq(4).And(Tmin_pred.gt(6)), 0)\n",
    "                .where(inc_classes.eq(5).And(Tmin_pred.lte(8)), 1)\n",
    "                .where(inc_classes.eq(5).And(Tmin_pred.gt(8)), 0)\n",
    "              ).clip(silv)"
   ]
  },
  {
   "cell_type": "code",
   "execution_count": 60,
   "metadata": {},
   "outputs": [
    {
     "data": {
      "application/vnd.jupyter.widget-view+json": {
       "model_id": "ed9bcc9a208b47df9965c521670dbf92",
       "version_major": 2,
       "version_minor": 0
      },
      "text/plain": [
       "Map(center=[-23, -46], controls=(WidgetControl(options=['position', 'transparent_bg'], widget=HBox(children=(T…"
      ]
     },
     "metadata": {},
     "output_type": "display_data"
    }
   ],
   "source": [
    "vis_alerta_geada = {'min': 0, 'max': 1, 'palette': [ 'blue', 'red']}\n",
    "\n",
    "Map = gee.Map()\n",
    "Map.addLayer(alerta_geada,vis_alerta_geada,'Alerta de geada')\n",
    "Map.setCenter(-46, -23, 8)  \n",
    "Map"
   ]
  },
  {
   "cell_type": "markdown",
   "metadata": {},
   "source": [
    "# Vento\n",
    "- Ventos intensos (ventanias ou vendavais)\n",
    "- A escala de Beaufort classifica o vento de acordo com sua velocidade.\n",
    "- Danos à cultura de eucalipto ocorrem quando há tombamento ou perda de dominância apical nas árvores. Diversos fatores podem contribuir para que isso ocorra, desde o tipo do solo, genética da planta, densidade e orientação do plantio, etc.\n",
    "- Foi utilizada a **classe 8 da escala de Beaufort** como limite para a velocidade do vento causar danos à silvicultura. É classificada como ventania, com ventos com velocidade maior ou igual a 62 km/h (17 m/s) e, segundo a escala de Beaufort, pode quebrar galhos de  árvores."
   ]
  },
  {
   "cell_type": "code",
   "execution_count": 61,
   "metadata": {},
   "outputs": [
    {
     "data": {
      "application/vnd.jupyter.widget-view+json": {
       "model_id": "545513b574e448e8b45331c0a42ac023",
       "version_major": 2,
       "version_minor": 0
      },
      "text/plain": [
       "Map(center=[-22.8, -47.4], controls=(WidgetControl(options=['position', 'transparent_bg'], widget=HBox(childre…"
      ]
     },
     "metadata": {},
     "output_type": "display_data"
    }
   ],
   "source": [
    "# Previsão da velocidade do vento (m/s) para o próximo dia\n",
    "VVmax_pred = gfs_var_prediction('Velocidade do vento (m/s)', dt.date.today() + dt.timedelta(days=1), aoi)\n",
    "Map = gee.Map()\n",
    "\n",
    "vis_alerta_ventania = {'min': 0, 'max': 17, 'palette': palette}\n",
    "\n",
    "Map.addLayer(VVmax_pred,vis_alerta_ventania,'Alerta de ventania')\n",
    "Map.setCenter(-47.4, -22.8, 7)    \n",
    "Map"
   ]
  },
  {
   "cell_type": "markdown",
   "metadata": {},
   "source": [
    "# Chuvas\n",
    "O eucalipto submetido ao excesso de água, decorrente da alta pluviosidade, pode apresentar\n",
    "anomalias como a necrose foliar, a presença da seca de ponteiros nos galhos e na haste principal,\n",
    "brotações adventícias ao longo do fuste e dos galhos, lançamento de folhas com limbo afilado,\n",
    "deformado e com sintomas de deficiência nutricional, em árvores adultas, além de obstrução com\n",
    "tiloses em vasos do xilema da haste, do lenho e das raízes.\n",
    "\n",
    "- Semelhante ao que foi feito para o alerta de geada podemos usar uma combinação do HAND (High Above the Nearest Drainage) com as predições de precipitação diária (mm).\n",
    "- O desafio é escolher valores de precipitação e HAND que permitam um alerta realista de inundação.\n",
    "- Com base em análises visuais de imagens de satélite e conhecimento tácito, foram definidos alertas de inundação quando o total acumulado de precipitação para 3 dias superar 100 mm e o valor do HAND for menor ou igual à 10."
   ]
  },
  {
   "cell_type": "code",
   "execution_count": 62,
   "metadata": {},
   "outputs": [],
   "source": [
    "today = ee.Date('2023-01-22')\n",
    "# Precipitacao total 3 dias (próximos 3 dias)\n",
    "P_3d_pred =  (gfs_collection\n",
    "            .select('total_precipitation_surface')\n",
    "            .filterDate(today, today.advance(6,'hour')) # get a specific forecast initialization,\n",
    "            .filter(ee.Filter.lt('forecast_time',today.advance(3,'day').millis())) # Quantos dias pra frente\n",
    "            .filter(ee.Filter.gte('forecast_hours',1) )\n",
    "            .filter(ee.Filter.lte('forecast_hours',72))\n",
    "            .sum()) # make a composite of the collection\n",
    "  \n",
    "P_3d_pred = P_3d_pred.clip(aoi)"
   ]
  },
  {
   "cell_type": "code",
   "execution_count": 63,
   "metadata": {},
   "outputs": [],
   "source": [
    "risco_inundacao = (ee.Image(1)\n",
    "                .where(P_3d_pred.gte(100).And(hand30_100.mosaic().select('b1').lte(10)), 1)\n",
    "                .where(P_3d_pred.gte(100).And(hand30_100.mosaic().select('b1').gt(10)), 0)\n",
    "                .where(P_3d_pred.lt(100), 0)\n",
    "                ).clip(aoi)"
   ]
  },
  {
   "cell_type": "code",
   "execution_count": 70,
   "metadata": {},
   "outputs": [
    {
     "data": {
      "application/vnd.jupyter.widget-view+json": {
       "model_id": "736b9bd4bf0a464083f8f78f92172c15",
       "version_major": 2,
       "version_minor": 0
      },
      "text/plain": [
       "Map(center=[-22.8, -47.4], controls=(WidgetControl(options=['position', 'transparent_bg'], widget=HBox(childre…"
      ]
     },
     "metadata": {},
     "output_type": "display_data"
    }
   ],
   "source": [
    "inundacao_Vis = {'min': 0, 'max': 1, 'palette': ['blue', 'red']}\n",
    "Map = gee.Map()\n",
    "Map.addLayer(risco_inundacao, inundacao_Vis, 'Risco de inundação')\n",
    "Map.setCenter(-47.4, -22.8, 7)      \n",
    "Map"
   ]
  },
  {
   "cell_type": "code",
   "execution_count": 69,
   "metadata": {},
   "outputs": [
    {
     "data": {
      "application/vnd.jupyter.widget-view+json": {
       "model_id": "51b83f2f2b744a018649cab77ac30702",
       "version_major": 2,
       "version_minor": 0
      },
      "text/plain": [
       "Map(center=[-22.8, -47.4], controls=(WidgetControl(options=['position', 'transparent_bg'], widget=HBox(childre…"
      ]
     },
     "metadata": {},
     "output_type": "display_data"
    }
   ],
   "source": [
    "# Visualização da Cota ou hand (height above nearest drainage)\n",
    "paletteHand = ['023858', '006837', '1a9850', '66bd63', 'a6d96a', 'd9ef8b', 'ffffbf', 'fee08b', 'fdae61', 'f46d43', 'd73027'];\n",
    "hand_vis = {'min': 1, 'max': 150, 'palette': paletteHand}\n",
    "Map = gee.Map()\n",
    "Map.addLayer(hand30_100.mosaic().clip(aoi), hand_vis, 'Cota')\n",
    "Map.setCenter(-47.4, -22.8, 7)    \n",
    "Map"
   ]
  },
  {
   "cell_type": "markdown",
   "metadata": {},
   "source": [
    "# Seca\n",
    "A deficiência hídrica se apresenta como o principal fator de risco para a produção do eucalipto no Brasil (Assad et al. 2021).\n",
    "\n",
    "O déficit hídrico DEF é definido como:\n",
    " DEF = ETP - ETR\n",
    " \n",
    " Em que,\n",
    " - ETP = evapotranspiração potencial\n",
    " - ETR = evapotranspiração real\n",
    " \n",
    " Ou seja, o déficit significa quanto a planta deixou de evapotranspirar devido à falta de água no solo. \n",
    "\n",
    "A análise do déficit hídrico é feita considerando a evapotranspiração de referência para a cultura e o volume de água armazenado no solo na camada correspondente à zona radicular, mais especificamente a profundidade radicular efetiva. Mesmo com uma profundidade que pode passar de 15m as raízes do eucalito responsáveis pela absorção de água e nutrientes se concentra nos primeiros 20-30 cm de solo.\n",
    "\n",
    "Uma das formas de se contabilizar o balanço de água no solo é por meio do método proposto por Thornthwaite e Mather (1955), denominado de Balanço Hídrico Climatológico, no qual a partir dos dados de P, de ETP e da CAD, chega-se aos valores de disponibilidade de água no solo (Armazenamento = ARM), de alteração do armazenamento de água do solo (ALT = deltaARM), de evapotranspiração real (ETR), de deficiência hídrica (DEF) e de excedente hídrico (EXC = DP).\n",
    "\n",
    "Além disso, outros fatores como tipo de solo, relevo e genética desempenham um papel importante no impacto do déficit hídrico na produção. Portanto, a estimativa do déficit hídrico pelo método tradicional de balanço hídrico, como o método de Thorntwaite e Matter, foge do escopo desse trabalho.\n",
    "\n",
    "Como alternativas poderíamos utilizar dados do catálogo do Google Earth Engine que trazem índices de seca. Como as coleções:\n",
    "- [GRIDMET](https://developers.google.com/earth-engine/datasets/catalog/GRIDMET_DROUGHT). Apenas EUA.\n",
    "- [KBDI](https://developers.google.com/earth-engine/datasets/catalog/UTOKYO_WTLAB_KBDI_v1). Apenas para a Ásia\n",
    "\n",
    "- [TerraClimate](https://developers.google.com/earth-engine/datasets/catalog/IDAHO_EPSCOR_TERRACLIMATE). Descontinuado em 2022\n",
    "- [SPEIbase](https://developers.google.com/earth-engine/datasets/catalog/CSIC_SPEI_2_8). Descontinuado em 2021\n",
    "\n",
    "Solução:\n",
    "- [MOD16A2.061](https://developers.google.com/earth-engine/datasets/catalog/MODIS_061_MOD16A2). Com as estimativa da evapostranspiração real e potencial.\n"
   ]
  },
  {
   "cell_type": "code",
   "execution_count": 66,
   "metadata": {},
   "outputs": [],
   "source": [
    "modis = ee.ImageCollection('MODIS/061/MOD16A2').filter(ee.Filter.date('2023-06-01', '2023-06-30')).first().clip(br)\n",
    "deficit = ee.Image(1).expression('ETP - ETR', {'ETP':modis.select('PET'),'ETR':modis.select('ET')}).rename('deficit')"
   ]
  },
  {
   "cell_type": "code",
   "execution_count": 67,
   "metadata": {},
   "outputs": [
    {
     "data": {
      "text/plain": [
       "{'deficit_max': 452, 'deficit_min': -114}"
      ]
     },
     "execution_count": 67,
     "metadata": {},
     "output_type": "execute_result"
    }
   ],
   "source": [
    "deficit.reduceRegion(reducer= ee.Reducer.minMax(), geometry= aoi, scale= 900).getInfo()"
   ]
  },
  {
   "cell_type": "code",
   "execution_count": 68,
   "metadata": {},
   "outputs": [
    {
     "data": {
      "application/vnd.jupyter.widget-view+json": {
       "model_id": "e509b5340fb549378663ef6a38fbabe7",
       "version_major": 2,
       "version_minor": 0
      },
      "text/plain": [
       "Map(center=[-12, -40], controls=(WidgetControl(options=['position', 'transparent_bg'], widget=HBox(children=(T…"
      ]
     },
     "metadata": {},
     "output_type": "display_data"
    }
   ],
   "source": [
    "Map = gee.Map()\n",
    "\n",
    "evapotranspirationVis = {'min': -100, 'max': 500,\n",
    "                          'palette':['000096','0064ff', '00b4ff', '33db80', '9beb4a',\n",
    "                                     'ffeb00', 'ffb300', 'ff6400', 'eb1e00', 'af0000'],\n",
    "}\n",
    "Map.setCenter(-40, -12, 4)\n",
    "Map.addLayer(deficit.clip(br), evapotranspirationVis, 'Déficit hídrico')\n",
    "Map"
   ]
  }
 ],
 "metadata": {
  "kernelspec": {
   "display_name": "ee",
   "language": "python",
   "name": "python3"
  },
  "language_info": {
   "codemirror_mode": {
    "name": "ipython",
    "version": 3
   },
   "file_extension": ".py",
   "mimetype": "text/x-python",
   "name": "python",
   "nbconvert_exporter": "python",
   "pygments_lexer": "ipython3",
   "version": "3.10.12"
  },
  "orig_nbformat": 4
 },
 "nbformat": 4,
 "nbformat_minor": 2
}
